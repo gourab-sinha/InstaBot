{
 "cells": [
  {
   "cell_type": "code",
   "execution_count": 82,
   "metadata": {},
   "outputs": [],
   "source": [
    "# Set the Evnvironment \n",
    "\n",
    "# Packages\n",
    "from selenium import webdriver\n",
    "from selenium.webdriver.common.by import By\n",
    "from selenium.webdriver.support.ui import WebDriverWait\n",
    "from selenium.webdriver.support import expected_conditions as EC\n",
    "import time\n",
    "from selenium.webdriver.chrome.options import Options\n",
    "from bs4 import BeautifulSoup\n",
    "\n",
    "# Disable Chrome Browser Notification\n",
    "option = Options()\n",
    "option.add_argument(\"--disable-infobars\")\n",
    "option.add_argument(\"start-maximized\")\n",
    "option.add_argument(\"--disable-extensions\")\n",
    "\n",
    "# Pass the argument 1 to allow and 2 to block\n",
    "option.add_experimental_option(\"prefs\", { \n",
    "    \"profile.default_content_setting_values.notifications\": 1 \n",
    "})\n",
    "\n",
    "driver = webdriver.Chrome(options=option,executable_path = '/Users/gourabsinha/Desktop/Data Science/Packages/chromedriver')\n"
   ]
  },
  {
   "cell_type": "code",
   "execution_count": 83,
   "metadata": {},
   "outputs": [],
   "source": [
    "#Q1. Login to Instagram\n",
    "\n",
    "driver.get('https://instagram.com/')\n",
    "\n",
    "# Credentials\n",
    "username = WebDriverWait(driver, 10).until(EC.presence_of_element_located((By.NAME, \"username\")))\n",
    "password = WebDriverWait(driver, 10).until(EC.presence_of_element_located((By.NAME, \"password\")))\n",
    "\n",
    "username.send_keys(\"instaguyfords\")\n",
    "password.send_keys(\"Insta@1234\")\n",
    "\n",
    "# username.send_keys(\"gourab__sinha\")\n",
    "# password.send_keys(\"Jbl@1234\")\n",
    "\n",
    "\n",
    "btn = driver.find_elements_by_tag_name(\"button\")\n",
    "btn[1].click()\n"
   ]
  },
  {
   "cell_type": "code",
   "execution_count": 111,
   "metadata": {},
   "outputs": [
    {
     "name": "stdout",
     "output_type": "stream",
     "text": [
      "foodgod\n",
      "foodnetwork\n",
      "buzzfeedfood\n",
      "worldfoodprogramme\n",
      "feelgoodfood.id\n",
      "foodwellmcr\n",
      "food\n",
      "foodluxuries\n",
      "food.barnbarn\n",
      "ochotrescinco\n",
      "foodfitnessflora\n",
      "foodinsider\n",
      "gofoodindonesia\n",
      "balifoodies\n",
      "tinyfoods\n",
      "foodandwine\n",
      "bragglivefoodproducts\n",
      "wholefoods\n",
      "foodie.munchies\n",
      "gouden_food\n",
      "enfoodgallery\n",
      "hazelzakariya\n",
      "annashealthyveganfood\n",
      "jktfoodbang\n",
      "foodfightabc\n",
      "cchannel_food_id\n",
      "doityourselfood\n",
      "trfhomemade.id\n",
      "foodstirs\n",
      "foodnetworkkitchen\n",
      "jktfooddestination\n",
      "wholeearthfoods\n",
      "fastfood_insider\n",
      "bonitopopfood\n",
      "foodiemom.mx\n",
      "albaik\n",
      "veganfoodandfitness\n",
      "yourfoodlab\n",
      "bbgmama06\n",
      "irishtimesfood\n",
      "impossible_foods\n",
      "foodtank\n",
      "asianfoodnetwork\n",
      "foodrepublic\n",
      "sbsfood\n",
      "foodzmything\n",
      "sovifooddiary\n",
      "questlovesfood\n",
      "lonelyplanetfood\n",
      "thefoodbabe\n",
      "myfoodandfamily\n"
     ]
    }
   ],
   "source": [
    "#Q2. Search \n",
    "driver.get('https://instagram.com/')\n",
    "search_input =    driver.find_element_by_xpath(\"//input[@placeholder='Search']\")\n",
    "search_input.clear()\n",
    "search_input.send_keys(\"food\")\n",
    "user_ids = WebDriverWait(driver, 10).until(EC.presence_of_all_elements_located((By.XPATH, \"//div[@class='fuqBx']//a\")))\n",
    "\n",
    "\n",
    "# Store user_handles\n",
    "store_user_ids = []\n",
    "for user_id in user_ids:\n",
    "    html_content = user_id.get_attribute('outerHTML')\n",
    "    data = BeautifulSoup(html_content,'html.parser').a['href'].split('/')[1]\n",
    "    if data!='explore':\n",
    "        store_user_ids.append(data)\n",
    "        \n",
    "for handle in store_user_ids:\n",
    "    print(handle)\n",
    "    \n",
    "# driver.close()\n"
   ]
  },
  {
   "cell_type": "code",
   "execution_count": 112,
   "metadata": {},
   "outputs": [],
   "source": [
    "#Q3-4.1 User handle\n",
    "driver.get('https://instagram.com')\n",
    "search_input = driver.find_element_by_xpath(\"//input[@placeholder='Search']\")\n",
    "search_input.clear()\n",
    "search_input.send_keys(\"So Delhi\")\n",
    "\n",
    "user_id = WebDriverWait(driver,10).until(EC.presence_of_element_located((By.XPATH,'//div[@class=\"fuqBx\"]//a')))\n",
    "user_id.click()"
   ]
  },
  {
   "cell_type": "code",
   "execution_count": 116,
   "metadata": {},
   "outputs": [
    {
     "name": "stdout",
     "output_type": "stream",
     "text": [
      "Now Following\n"
     ]
    }
   ],
   "source": [
    "#Q4.2 Follow\n",
    "follow_button = driver.find_element_by_xpath(\"//span[@class = 'vBF20 _1OSdk']/button\")\n",
    "\n",
    "# Follow\n",
    "type_button = BeautifulSoup(follow_button.get_attribute('outerHTML'),'html.parser')\n",
    "if type_button.text == 'Following':\n",
    "    print('Already Following')\n",
    "else:\n",
    "    follow_button.click()\n",
    "    print(\"Now Following\")"
   ]
  },
  {
   "cell_type": "code",
   "execution_count": 117,
   "metadata": {},
   "outputs": [
    {
     "name": "stdout",
     "output_type": "stream",
     "text": [
      "Now Unfollowing\n"
     ]
    }
   ],
   "source": [
    "#Q4.3 Unfollow\n",
    "\n",
    "type_button = BeautifulSoup(follow_button.get_attribute('outerHTML'),'html.parser')\n",
    "if type_button.text!='Follow':\n",
    "    follow_button.click()\n",
    "    time.sleep(2) \n",
    "    unfollow = WebDriverWait(driver,10).until(EC.presence_of_element_located((By.XPATH,'//button[@class=\"aOOlW -Cab_   \"]')))\n",
    "    unfollow.click()\n",
    "    print(\"Now Unfollowing\")\n",
    "else:\n",
    "    print('Already Unfollowed')"
   ]
  },
  {
   "cell_type": "code",
   "execution_count": 88,
   "metadata": {},
   "outputs": [],
   "source": [
    "#Q5 Open handle dilsefoodie \n",
    "\n",
    "driver.get('https://instagram.com')\n",
    "search_input = driver.find_element_by_xpath(\"//input[@placeholder='Search']\")\n",
    "search_input.clear()\n",
    "search_input.send_keys(\"dilsefoodie\")\n",
    "time.sleep(3)\n",
    "user_id = WebDriverWait(driver,10).until(EC.presence_of_element_located((By.XPATH,'//div[@class=\"fuqBx\"]//a')))\n",
    "user_id.get_attribute('outerHTML')\n",
    "user_id.click()"
   ]
  },
  {
   "cell_type": "code",
   "execution_count": 118,
   "metadata": {},
   "outputs": [
    {
     "name": "stdout",
     "output_type": "stream",
     "text": [
      "Already Liked\n",
      "Already Liked\n",
      "Already Liked\n",
      "Already Liked\n",
      "Already Liked\n",
      "Already Liked\n",
      "Already Liked\n",
      "Already Liked\n",
      "Already Liked\n",
      "Already Liked\n",
      "Liked 30 recent posts\n"
     ]
    }
   ],
   "source": [
    "#Q5.1 Like 30 TOP Posts\n",
    "driver.get('https://instagram.com')\n",
    "search_input = driver.find_element_by_xpath(\"//input[@placeholder='Search']\")\n",
    "search_input.clear()\n",
    "search_input.send_keys(\"dilsefoodie\")\n",
    "time.sleep(3)\n",
    "user_id = WebDriverWait(driver,10).until(EC.presence_of_element_located((By.XPATH,'//div[@class=\"fuqBx\"]//a')))\n",
    "user_id.click()\n",
    "time.sleep(2)\n",
    "\n",
    "\n",
    "\n",
    "post = WebDriverWait(driver,10).until(EC.presence_of_element_located((By.XPATH,\"//div[@class='v1Nh3 kIKUG  _bz0w']\")))\n",
    "post.click()\n",
    "time.sleep(3)\n",
    "i = 1\n",
    "while True:\n",
    "    like_button = WebDriverWait(driver,10).until(EC.presence_of_element_located((By.XPATH,\"//article/div/section/span/button[@class='wpO6b ']\")))\n",
    "    type_button = BeautifulSoup(like_button.get_attribute('innerHTML'),'html.parser').find('svg').get('aria-label')\n",
    "    if type_button=='Unlike':\n",
    "        print('Already Liked')\n",
    "    else:\n",
    "        like_button.click()\n",
    "    time.sleep(2)\n",
    "    next_post = WebDriverWait(driver,10).until(EC.presence_of_element_located((By.XPATH,\"//div/a[@class=' _65Bje  coreSpriteRightPaginationArrow']\")))\n",
    "    next_post.click()\n",
    "    i+=1\n",
    "    time.sleep(3)\n",
    "    if i==31:\n",
    "        print(\"Liked 30 recent posts\")\n",
    "        driver.execute_script(\"arguments[0].click();\", driver.find_element_by_xpath(\"//div[@class='_2dDPU CkGkG']/div/button[@class='wpO6b ']\"))\n",
    "        break\n",
    "        \n",
    "        \n",
    "\n"
   ]
  },
  {
   "cell_type": "code",
   "execution_count": 119,
   "metadata": {},
   "outputs": [
    {
     "name": "stdout",
     "output_type": "stream",
     "text": [
      "Unliked 30 recent posts\n"
     ]
    }
   ],
   "source": [
    "#Q5.1 Unlike 30 top Posts\n",
    "driver.get('https://instagram.com')\n",
    "search_input = driver.find_element_by_xpath(\"//input[@placeholder='Search']\")\n",
    "search_input.clear()\n",
    "search_input.send_keys(\"dilsefoodie\")\n",
    "time.sleep(3)\n",
    "user_id = WebDriverWait(driver,10).until(EC.presence_of_element_located((By.XPATH,'//div[@class=\"fuqBx\"]//a')))\n",
    "user_id.click()\n",
    "time.sleep(2)\n",
    "\n",
    "\n",
    "post = WebDriverWait(driver,10).until(EC.presence_of_element_located((By.XPATH,\"//div[@class='v1Nh3 kIKUG  _bz0w']\")))\n",
    "post.click()\n",
    "time.sleep(3)\n",
    "i = 1\n",
    "while True:\n",
    "    like_button = WebDriverWait(driver,10).until(EC.presence_of_element_located((By.XPATH,\"//article/div/section/span/button[@class='wpO6b ']\")))\n",
    "    type_button = BeautifulSoup(like_button.get_attribute('innerHTML'),'html.parser').find('svg').get('aria-label')\n",
    "#     print(type_button)\n",
    "    if type_button=='like':\n",
    "        print('Already unliked')\n",
    "    else:\n",
    "        like_button.click()\n",
    "    time.sleep(2)\n",
    "    next_post = WebDriverWait(driver,10).until(EC.presence_of_element_located((By.XPATH,\"//div/a[@class=' _65Bje  coreSpriteRightPaginationArrow']\")))\n",
    "    next_post.click()\n",
    "    i+=1\n",
    "    time.sleep(3)\n",
    "    if i==11:\n",
    "        print(\"Unliked 30 recent posts\")\n",
    "        driver.execute_script(\"arguments[0].click();\", driver.find_element_by_xpath(\"//div[@class='_2dDPU CkGkG']/div/button[@class='wpO6b ']\"))\n",
    "        break\n",
    "        \n",
    "        \n",
    "\n"
   ]
  },
  {
   "cell_type": "code",
   "execution_count": 81,
   "metadata": {},
   "outputs": [],
   "source": [
    "driver.close()"
   ]
  }
 ],
 "metadata": {
  "kernelspec": {
   "display_name": "Python 3",
   "language": "python",
   "name": "python3"
  },
  "language_info": {
   "codemirror_mode": {
    "name": "ipython",
    "version": 3
   },
   "file_extension": ".py",
   "mimetype": "text/x-python",
   "name": "python",
   "nbconvert_exporter": "python",
   "pygments_lexer": "ipython3",
   "version": "3.7.4"
  }
 },
 "nbformat": 4,
 "nbformat_minor": 2
}
