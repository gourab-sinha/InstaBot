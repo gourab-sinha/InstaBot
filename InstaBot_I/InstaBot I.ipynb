{
 "cells": [
  {
   "cell_type": "code",
   "execution_count": 1,
   "metadata": {},
   "outputs": [],
   "source": [
    "# Set the Evnvironment \n",
    "\n",
    "# Packages\n",
    "from selenium import webdriver\n",
    "from selenium.webdriver.common.by import By\n",
    "from selenium.webdriver.support.ui import WebDriverWait\n",
    "from selenium.webdriver.support import expected_conditions as EC\n",
    "import time\n",
    "from selenium.webdriver.chrome.options import Options\n",
    "from bs4 import BeautifulSoup\n",
    "\n",
    "# Disable Chrome Browser Notification\n",
    "option = Options()\n",
    "option.add_argument(\"--disable-infobars\")\n",
    "option.add_argument(\"start-maximized\")\n",
    "option.add_argument(\"--disable-extensions\")\n",
    "\n",
    "# Pass the argument 1 to allow and 2 to block\n",
    "option.add_experimental_option(\"prefs\", { \n",
    "    \"profile.default_content_setting_values.notifications\": 1 \n",
    "})\n",
    "\n",
    "driver = webdriver.Chrome(options=option,executable_path = '/Users/gourabsinha/Desktop/Data Science/Packages/chromedriver')\n"
   ]
  },
  {
   "cell_type": "code",
   "execution_count": 2,
   "metadata": {},
   "outputs": [],
   "source": [
    "# Login to Instagram\n",
    "\n",
    "driver.get('https://instagram.com/')\n",
    "\n",
    "# Credentials\n",
    "username = WebDriverWait(driver, 10).until(EC.presence_of_element_located((By.NAME, \"username\")))\n",
    "password = WebDriverWait(driver, 10).until(EC.presence_of_element_located((By.NAME, \"password\")))\n",
    "\n",
    "username.send_keys(\"gourab19964u@gmail.com\")\n",
    "password.send_keys(\"Gaurabh@1234\")\n",
    "\n",
    "btn = driver.find_elements_by_tag_name(\"button\")\n",
    "btn[1].click()\n"
   ]
  },
  {
   "cell_type": "code",
   "execution_count": 193,
   "metadata": {},
   "outputs": [
    {
     "name": "stdout",
     "output_type": "stream",
     "text": [
      "['foodnetwork', 'titanium_food', 'good.foodtruck', 'foodnetworkkitchen', 'foodgod', 'buzzfeedfood', 'food', 'foodinsider', 'junk.food', 'maa_ki_rasoi_ka_swaad', 'food.drunk', 'yourfoodlab', 'food_values', 'foodloversmumbai', 'foodys', 'foodie_incarnate', 'shilpamandal64', 'rice__and__more', 'foodie_in_blood', 'mumbaifoodie', 'fooddrifter', 'foodsoul143', 'filmyfoodie', 'consciousfoodindia', 'foodies8970', 'littlefoodco', 'foodlty', 'street_food_pawn', 'foodkars', 'foodyfetish', 'poetic_foodie_989', 'foodhallcookerystudio', 'foodtalkindia', 'rajshrifood', 'dilsefoodie', 'king_minion_foodie', 'fooddotcom', 'thebetterfoods', 'foodyeating', '_foodstories_', 'foodbyrahul', 'livingfoodz', 'resh_taurants', 'my_foodblog_kolkata', '_kolkata_foodies_', 'dandafoodproject', 'mumbaimyworld', 'salonikukreja']\n"
     ]
    }
   ],
   "source": [
    "# Search \n",
    "search_input = driver.find_elements_by_tag_name(\"input\")\n",
    "search_input[2].clear()\n",
    "search_input[2].send_keys(\"food\")\n",
    "user_ids = WebDriverWait(driver, 10).until(EC.presence_of_all_elements_located((By.XPATH, \"//div[@class='fuqBx']//a\")))\n",
    "user_ids\n",
    "\n",
    "# user_ids = driver.find_elements_by_xpath(\"//div[@class='fuqBx']/a\")\n",
    "store_user_ids = []\n",
    "for user_id in user_ids:\n",
    "    html_content = user_id.get_attribute('outerHTML')\n",
    "    data = BeautifulSoup(html_content,'html.parser').a['href'].split('/')[1]\n",
    "    if data!='explore':\n",
    "        store_user_ids.append(data)\n",
    "        \n",
    "print(store_user_ids)\n",
    "    \n"
   ]
  },
  {
   "cell_type": "code",
   "execution_count": 10,
   "metadata": {},
   "outputs": [],
   "source": [
    "# User handle \n",
    "search_input = driver.find_elements_by_tag_name(\"input\")\n",
    "search_input[2].clear()\n",
    "search_input[2].send_keys(\"So Delhi\")\n",
    "\n",
    "user_id = WebDriverWait(driver,10).until(EC.presence_of_element_located((By.XPATH,'//div[@class=\"fuqBx\"]//a')))\n",
    "user_id.click()"
   ]
  },
  {
   "cell_type": "code",
   "execution_count": 36,
   "metadata": {},
   "outputs": [],
   "source": [
    "follow_button = driver.find_element_by_xpath(\"//span[@class = 'vBF20 _1OSdk']/button\")\n",
    "\n",
    "# Follow\n",
    "type_button = BeautifulSoup(follow_button.get_attribute('outerHTML'),'html.parser')\n",
    "if type_button.text == 'Following':\n",
    "    print('Already Following')\n",
    "else:\n",
    "    follow_button.click()\n",
    "    "
   ]
  },
  {
   "cell_type": "code",
   "execution_count": 37,
   "metadata": {},
   "outputs": [],
   "source": [
    "# Unfollow\n",
    "follow_button = driver.find_element_by_xpath(\"//span[@class = 'vBF20 _1OSdk']/button\")\n",
    "follow_button.click()\n",
    " \n",
    "unfollow = WebDriverWait(driver,10).until(EC.presence_of_element_located((By.XPATH,'//button[@class=\"aOOlW -Cab_   \"]')))\n",
    "unfollow.click()"
   ]
  }
 ],
 "metadata": {
  "kernelspec": {
   "display_name": "Python 3",
   "language": "python",
   "name": "python3"
  },
  "language_info": {
   "codemirror_mode": {
    "name": "ipython",
    "version": 3
   },
   "file_extension": ".py",
   "mimetype": "text/x-python",
   "name": "python",
   "nbconvert_exporter": "python",
   "pygments_lexer": "ipython3",
   "version": "3.7.4"
  }
 },
 "nbformat": 4,
 "nbformat_minor": 2
}
